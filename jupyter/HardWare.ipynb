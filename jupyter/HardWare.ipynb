{
 "cells": [
  {
   "cell_type": "markdown",
   "metadata": {},
   "source": [
    "##  image preprocessing(IP) and  disparity regression(DR) PYNQ implement"
   ]
  },
  {
   "cell_type": "markdown",
   "metadata": {},
   "source": [
    "### cat "
   ]
  },
  {
   "cell_type": "code",
   "execution_count": null,
   "id": "be394036-fd0c-4a3e-9987-96b4baa5c272",
   "metadata": {},
   "outputs": [],
   "source": [
    "\n",
    "import numpy as np\n",
    "\n",
    "def torch_cat(tensors, dim=0):\n",
    "    return np.concatenate(tensors, axis=dim)\n"
   ]
  },
  {
   "cell_type": "markdown",
   "metadata": {},
   "source": [
    "### unflod and fold "
   ]
  },
  {
   "cell_type": "code",
   "execution_count": 4,
   "id": "7fbe054b-76fc-44a5-8a18-14d8620f0070",
   "metadata": {},
   "outputs": [],
   "source": [
    "import numpy as np\n",
    "def unfold(input, kernel_size, dilation=1, padding=0, stride=1):\n",
    "    # Get the input shape\n",
    "    batch_size, channels, height, width = input.shape\n",
    "\n",
    "    # Fill in the input\n",
    "    input_padded = np.pad(input, ((0, 0), (0, 0), (padding, padding), (padding, padding)), mode='constant')\n",
    "\n",
    "    # Calculate the height and width of the output\n",
    "    output_height = (height + 2 * padding - dilation * (kernel_size - 1) - 1) // stride + 1\n",
    "    output_width = (width + 2 * padding - dilation * (kernel_size - 1) - 1) // stride + 1\n",
    "\n",
    "    # Create a zero array to hold the results\n",
    "    output = np.zeros((batch_size, channels, kernel_size, kernel_size, output_height, output_width))\n",
    "\n",
    "    # Iterate over each pixel\n",
    "    for i in range(kernel_size):\n",
    "        for j in range(kernel_size):\n",
    "            start_i = i * dilation\n",
    "            start_j = j * dilation\n",
    "            end_i = start_i + stride * output_height\n",
    "            end_j = start_j + stride * output_width\n",
    "\n",
    "            output[:, :, i, j, :, :] = input_padded[:, :, start_i:end_i:stride, start_j:end_j:stride]\n",
    "\n",
    "    return output.reshape(batch_size, channels * kernel_size * kernel_size, output_height, output_width)\n",
    "\n",
    "\n",
    "def fold(input, output_size, kernel_size, dilation=1, padding=0, stride=1):\n",
    "    # Get the input shape\n",
    "    batch_size, _, output_height, output_width = input.shape\n",
    "    channels = input.shape[1] // (kernel_size * kernel_size)\n",
    "\n",
    "    # Create a zero array to hold the results\n",
    "    output = np.zeros((batch_size, channels, output_size[0], output_size[1]))\n",
    "\n",
    "    # Iterate over each pixel\n",
    "    for i in range(kernel_size):\n",
    "        for j in range(kernel_size):\n",
    "            start_i = i * dilation\n",
    "            start_j = j * dilation\n",
    "            end_i = start_i + stride * output_height\n",
    "            end_j = start_j + stride * output_width\n",
    "\n",
    "            output[:, :, start_i:end_i:stride, start_j:end_j:stride] += input[:, i * kernel_size + j::kernel_size * kernel_size, :, :]\n",
    "\n",
    "    return output\n"
   ]
  },
  {
   "cell_type": "markdown",
   "metadata": {},
   "source": [
    "#### IP stage"
   ]
  },
  {
   "cell_type": "code",
   "execution_count": 5,
   "id": "2df58f50-b48b-4fed-8d29-63bb259c4da8",
   "metadata": {
    "collapsed": true,
    "jupyter": {
     "outputs_hidden": true
    },
    "tags": []
   },
   "outputs": [
    {
     "name": "stdout",
     "output_type": "stream",
     "text": [
      "<class 'numpy.ndarray'>\n",
      "(4, 25, 48, 48)\n",
      "(4, 1, 240, 240)\n",
      "(4, 25, 48, 48)\n",
      "(4, 1, 240, 240)\n",
      "(4, 25, 48, 48)\n",
      "(4, 1, 240, 240)\n",
      "(4, 25, 48, 48)\n",
      "(4, 1, 240, 240)\n",
      "(4, 25, 48, 48)\n",
      "(4, 1, 240, 240)\n",
      "(4, 25, 48, 48)\n",
      "(4, 1, 240, 240)\n",
      "(4, 25, 48, 48)\n",
      "(4, 1, 240, 240)\n",
      "(4, 25, 48, 48)\n",
      "(4, 1, 240, 240)\n",
      "(4, 25, 48, 48)\n",
      "(4, 1, 240, 240)\n",
      "(4, 9, 240, 240)\n"
     ]
    }
   ],
   "source": [
    "import torch\n",
    "import torch.nn as nn\n",
    "def SAI2MacPI_plus(x, angRes):\n",
    "    # x:torch.Size([4, 1, 432, 432])\n",
    "    b, c, hu, wv = x.shape\n",
    "    h, w = hu // angRes, wv // angRes     # h=w=48\n",
    "    mindisp = -4\n",
    "    maxdisp = 4\n",
    "    # Calculate the MacPI for d=0\n",
    "    tempU = []\n",
    "    for i in range(h):\n",
    "        tempV = []\n",
    "        for j in range(w):\n",
    "            tempV.append(x[:, :, i::h, j::w])\n",
    "        tempU.append(torch_cat(tempV, dim=3))\n",
    "    input = torch_cat(tempU, dim=2)\n",
    "    \n",
    "    # MacPI is computed for all d based on d=0\n",
    "    temp = []\n",
    "    for d in range(mindisp, maxdisp + 1):\n",
    "        if d < 0:\n",
    "            dilat = int(abs(d) * angRes + 1)\n",
    "            pad = int(0.5 * angRes * (angRes - 1) * abs(d))\n",
    "        if d == 0:\n",
    "            dilat = 1\n",
    "            pad = 0\n",
    "        if d > 0:\n",
    "            dilat = int(abs(d) * angRes - 1)\n",
    "            pad = int(0.5 * angRes * (angRes - 1) * abs(d) - angRes + 1)\n",
    "        mid = unfold(input, kernel_size=angRes, dilation=dilat, padding=pad, stride=angRes)\n",
    "        print(mid.shape)\n",
    "        out_d = fold(mid, output_size=(hu,wv), kernel_size=angRes, dilation=1, padding=0, stride=angRes)\n",
    "        print(out_d.shape)\n",
    "        temp.append(out_d)\n",
    "    out = torch_cat(temp, dim=1)\n",
    "    return out\n",
    "x = np.ones((4, 1, 240, 240))\n",
    "print(type(x))\n",
    "angRes = 5\n",
    "result2 = SAI2MacPI_plus(x, angRes)\n",
    "print(result2.shape)"
   ]
  },
  {
   "cell_type": "markdown",
   "metadata": {},
   "source": [
    "### DR stage"
   ]
  },
  {
   "cell_type": "code",
   "execution_count": 6,
   "id": "122fc7d1-d8d7-4708-ba8d-9f80ea477486",
   "metadata": {},
   "outputs": [],
   "source": [
    "import numpy as np\n",
    "\n",
    "class Regression:\n",
    "    def __init__(self, mindisp, maxdisp):\n",
    "        self.maxdisp = maxdisp\n",
    "        self.mindisp = mindisp\n",
    "\n",
    "    def softmax(self, x):\n",
    "        e_x = np.exp(x - np.max(x, axis=1, keepdims=True))\n",
    "        return e_x / np.sum(e_x, axis=1, keepdims=True)\n",
    "\n",
    "    def forward(self, cost):\n",
    "        cost = np.squeeze(cost, axis=1)\n",
    "        score = self.softmax(cost)              # B, D, H, W\n",
    "        temp = np.zeros(score.shape)            # B, D, H, W\n",
    "        for d in range(self.maxdisp - self.mindisp + 1):\n",
    "            temp[:, d, :, :] = score[:, d, :, :] * (self.mindisp + d)\n",
    "        disp = np.sum(temp, axis=1, keepdims=True)     # B, 1, H, W\n",
    "        return disp"
   ]
  }
 ],
 "metadata": {
  "kernelspec": {
   "display_name": "Python 3 (ipykernel)",
   "language": "python",
   "name": "python3"
  },
  "language_info": {
   "codemirror_mode": {
    "name": "ipython",
    "version": 3
   },
   "file_extension": ".py",
   "mimetype": "text/x-python",
   "name": "python",
   "nbconvert_exporter": "python",
   "pygments_lexer": "ipython3",
   "version": "3.8.10"
  }
 },
 "nbformat": 4,
 "nbformat_minor": 5
}
