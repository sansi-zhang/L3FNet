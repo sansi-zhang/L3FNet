{
 "cells": [
  {
   "cell_type": "code",
   "execution_count": null,
   "metadata": {},
   "outputs": [],
   "source": [
    "import numpy as np\n",
    "from driver import io_shape_dict\n",
    "from driver_base import ExampleOverlay\n",
    "import IPnDR\n",
    "import numpy as np\n",
    "\n",
    "driver = ExampleOverlay(\n",
    "        bitfile_name=\"L3FNet.bit\",\n",
    "        io_shape_dict=io_shape_dict,\n",
    "        batch_size=1,\n",
    "        runtime_weight_dir=\"runtime_weights/\",\n",
    "    )"
   ]
  },
  {
   "cell_type": "code",
   "execution_count": null,
   "metadata": {},
   "outputs": [],
   "source": [
    "data = np.load('input.py')\n",
    "IPdata = IPnDR.SAI2MacPI_plus(data, angRes=7)\n",
    "# Resize to the range [0, 255]\n",
    "IPdata_scaled = IPdata * 255.0\n",
    "# Truncate data to ensure it is in the range [0, 255]\n",
    "IPdata_scaled = np.clip(IPdata_scaled, 0, 255)\n",
    "\n",
    "# Convert the data to uint8\n",
    "IPdata_uint8 = IPdata_scaled.astype(np.uint8)\n",
    "# Suppose IPdata_uint8 is your uint8 array\n",
    "IPdata_transposed = np.transpose(IPdata_uint8, (2, 3, 0, 1))  # Adjust the channel and batch dimension positions\n",
    "# Add a quantitative dimension\n",
    "IPdata_expanded = np.expand_dims(IPdata_transposed, axis=0)\n",
    "# reshape into (1, 240, 240, 1, 9)\n",
    "IPdata_reshaped = IPdata_expanded.reshape((1, 336, 336, 1, 9))"
   ]
  },
  {
   "cell_type": "code",
   "execution_count": null,
   "id": "ba5766a8",
   "metadata": {},
   "outputs": [],
   "source": [
    "outputfile = 'output.npy'\n",
    "driver.copy_input_data_to_device(IPdata_reshaped)\n",
    "driver.execute_on_buffers(asynch=True)\n",
    "outputs = []\n",
    "driver.copy_output_data_from_device(driver.obuf_packed[0], ind=0)\n",
    "obuf_folded = driver.unpack_output(driver.obuf_packed[0], ind=0)\n",
    "obuf_normal = driver.unfold_output(obuf_folded, ind=0)\n",
    "out = np.transpose(obuf_normal, (0, 3, 1, 2))\n",
    "out = IPnDR.Regression(-4, 4, out)"
   ]
  },
  {
   "cell_type": "code",
   "execution_count": null,
   "metadata": {},
   "outputs": [],
   "source": [
    "import numpy as np\n",
    "import matplotlib.pyplot as plt\n",
    "\n",
    "image_data = out[0, 0, :, :]\n",
    "plt.imshow(image_data, cmap='viridis')\n",
    "plt.colorbar()  \n",
    "plt.show()"
   ]
  }
 ],
 "metadata": {
  "kernelspec": {
   "display_name": "Python 3 (ipykernel)",
   "language": "python",
   "name": "python3"
  },
  "language_info": {
   "codemirror_mode": {
    "name": "ipython",
    "version": 3
   },
   "file_extension": ".py",
   "mimetype": "text/x-python",
   "name": "python",
   "nbconvert_exporter": "python",
   "pygments_lexer": "ipython3",
   "version": "3.10.4"
  }
 },
 "nbformat": 4,
 "nbformat_minor": 5
}
